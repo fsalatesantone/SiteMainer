{
 "cells": [
  {
   "cell_type": "markdown",
   "id": "38802233",
   "metadata": {},
   "source": [
    "# Web Classification Demo\n",
    "Questo notebook permette di passare una lista di siti web e una lista di keyword.\n",
    "Per ciascun sito:\n",
    "- scarica il testo della pagina (senza rendering JS)\n",
    "- calcola uno score basato su keyword\n",
    "- calcola la similarità semantica con embeddings (SentenceTransformers)\n",
    "- produce un punteggio finale e una classificazione (positivo/incerto/negativo)"
   ]
  },
  {
   "cell_type": "code",
   "execution_count": 1,
   "id": "b53d2a35",
   "metadata": {},
   "outputs": [
    {
     "data": {
      "application/vnd.jupyter.widget-view+json": {
       "model_id": "458b74061b8842fbac4ea307c1200449",
       "version_major": 2,
       "version_minor": 0
      },
      "text/plain": [
       "modules.json:   0%|          | 0.00/229 [00:00<?, ?B/s]"
      ]
     },
     "metadata": {},
     "output_type": "display_data"
    },
    {
     "name": "stderr",
     "output_type": "stream",
     "text": [
      "C:\\Users\\lgta114\\AppData\\Local\\anaconda3\\envs\\envdata\\Lib\\site-packages\\huggingface_hub\\file_download.py:143: UserWarning: `huggingface_hub` cache-system uses symlinks by default to efficiently store duplicated files but your machine does not support them in C:\\Users\\lgta114\\.cache\\huggingface\\hub\\models--sentence-transformers--paraphrase-multilingual-MiniLM-L12-v2. Caching files will still work but in a degraded version that might require more space on your disk. This warning can be disabled by setting the `HF_HUB_DISABLE_SYMLINKS_WARNING` environment variable. For more details, see https://huggingface.co/docs/huggingface_hub/how-to-cache#limitations.\n",
      "To support symlinks on Windows, you either need to activate Developer Mode or to run Python as an administrator. In order to activate developer mode, see this article: https://docs.microsoft.com/en-us/windows/apps/get-started/enable-your-device-for-development\n",
      "  warnings.warn(message)\n"
     ]
    },
    {
     "data": {
      "application/vnd.jupyter.widget-view+json": {
       "model_id": "a0ff4c76917a4fd9937fd9f845b849c4",
       "version_major": 2,
       "version_minor": 0
      },
      "text/plain": [
       "config_sentence_transformers.json:   0%|          | 0.00/122 [00:00<?, ?B/s]"
      ]
     },
     "metadata": {},
     "output_type": "display_data"
    },
    {
     "data": {
      "application/vnd.jupyter.widget-view+json": {
       "model_id": "d16ff00c3bb54078875843832c254d55",
       "version_major": 2,
       "version_minor": 0
      },
      "text/plain": [
       "README.md: 0.00B [00:00, ?B/s]"
      ]
     },
     "metadata": {},
     "output_type": "display_data"
    },
    {
     "data": {
      "application/vnd.jupyter.widget-view+json": {
       "model_id": "6c97fd89e2b744a59ddce97ab5d83cfb",
       "version_major": 2,
       "version_minor": 0
      },
      "text/plain": [
       "sentence_bert_config.json:   0%|          | 0.00/53.0 [00:00<?, ?B/s]"
      ]
     },
     "metadata": {},
     "output_type": "display_data"
    },
    {
     "data": {
      "application/vnd.jupyter.widget-view+json": {
       "model_id": "4c26c0e96cf14d89a96fa3797f66ca19",
       "version_major": 2,
       "version_minor": 0
      },
      "text/plain": [
       "config.json:   0%|          | 0.00/645 [00:00<?, ?B/s]"
      ]
     },
     "metadata": {},
     "output_type": "display_data"
    },
    {
     "name": "stderr",
     "output_type": "stream",
     "text": [
      "Xet Storage is enabled for this repo, but the 'hf_xet' package is not installed. Falling back to regular HTTP download. For better performance, install the package with: `pip install huggingface_hub[hf_xet]` or `pip install hf_xet`\n"
     ]
    },
    {
     "data": {
      "application/vnd.jupyter.widget-view+json": {
       "model_id": "5a861a1d2c7a46c7bcf7b7aca0c22da1",
       "version_major": 2,
       "version_minor": 0
      },
      "text/plain": [
       "model.safetensors:   0%|          | 0.00/471M [00:00<?, ?B/s]"
      ]
     },
     "metadata": {},
     "output_type": "display_data"
    },
    {
     "data": {
      "application/vnd.jupyter.widget-view+json": {
       "model_id": "2f185e4c84fb4b9babbd6d08072df012",
       "version_major": 2,
       "version_minor": 0
      },
      "text/plain": [
       "tokenizer_config.json:   0%|          | 0.00/480 [00:00<?, ?B/s]"
      ]
     },
     "metadata": {},
     "output_type": "display_data"
    },
    {
     "name": "stderr",
     "output_type": "stream",
     "text": [
      "Xet Storage is enabled for this repo, but the 'hf_xet' package is not installed. Falling back to regular HTTP download. For better performance, install the package with: `pip install huggingface_hub[hf_xet]` or `pip install hf_xet`\n"
     ]
    },
    {
     "data": {
      "application/vnd.jupyter.widget-view+json": {
       "model_id": "c0b6681f8ad04e02b1af5f62fa2fc442",
       "version_major": 2,
       "version_minor": 0
      },
      "text/plain": [
       "tokenizer.json:   0%|          | 0.00/9.08M [00:00<?, ?B/s]"
      ]
     },
     "metadata": {},
     "output_type": "display_data"
    },
    {
     "data": {
      "application/vnd.jupyter.widget-view+json": {
       "model_id": "12e1c69a6e8949f9b79c01667dd35c81",
       "version_major": 2,
       "version_minor": 0
      },
      "text/plain": [
       "special_tokens_map.json:   0%|          | 0.00/239 [00:00<?, ?B/s]"
      ]
     },
     "metadata": {},
     "output_type": "display_data"
    },
    {
     "data": {
      "application/vnd.jupyter.widget-view+json": {
       "model_id": "131ec600256d40eb8adb12ef7d59aecd",
       "version_major": 2,
       "version_minor": 0
      },
      "text/plain": [
       "config.json:   0%|          | 0.00/190 [00:00<?, ?B/s]"
      ]
     },
     "metadata": {},
     "output_type": "display_data"
    }
   ],
   "source": [
    "import re, math, requests\n",
    "import numpy as np\n",
    "import pandas as pd\n",
    "from bs4 import BeautifulSoup\n",
    "from sentence_transformers import SentenceTransformer\n",
    "from tqdm import tqdm\n",
    "import warnings\n",
    "warnings.filterwarnings(\"ignore\")\n",
    "\n",
    "# Configurazione modello embeddings\n",
    "model = SentenceTransformer(\"paraphrase-multilingual-MiniLM-L12-v2\")"
   ]
  },
  {
   "cell_type": "markdown",
   "id": "8127b2a1",
   "metadata": {},
   "source": [
    "## Parametri di input\n",
    "Inserisci la lista di URL e la lista di keyword da cercare."
   ]
  },
  {
   "cell_type": "code",
   "execution_count": 31,
   "id": "55af7f9c",
   "metadata": {},
   "outputs": [],
   "source": [
    "df_url = pd.read_excel(\"./data/Template.xlsx\", sheet_name='websites')\n",
    "df_keywords = pd.read_excel(\"./data/Template.xlsx\", sheet_name='keywords')\n",
    "\n",
    "# Lista di keyword (personalizzabile)\n",
    "keywords = {k.lower() for k in df_keywords['keywords'].to_list()}\n",
    "\n",
    "# Pesi per combinare gli score\n",
    "ALPHA_SEMANTIC = 0.7 # pesa la componente di similarità semantica\n",
    "ALPHA_KEYWORD = 0.3 # pesa la componente di presenza della parola chiave"
   ]
  },
  {
   "cell_type": "markdown",
   "id": "038d78ff",
   "metadata": {},
   "source": [
    "## Funzioni di supporto"
   ]
  },
  {
   "cell_type": "code",
   "execution_count": 25,
   "id": "d6d6aec3",
   "metadata": {},
   "outputs": [],
   "source": [
    "def fetch_text(url: str, timeout=10) -> str:\n",
    "    try:\n",
    "        r = requests.get(url, timeout=timeout, headers={\"User-Agent\": \"Mozilla/5.0\"})\n",
    "        if r.status_code >= 400:\n",
    "            return \"\"\n",
    "        soup = BeautifulSoup(r.text, \"html.parser\")\n",
    "        for tag in soup([\"script\", \"style\", \"noscript\"]):\n",
    "            tag.decompose()\n",
    "        text = \" \".join([x.get_text(\" \", strip=True) for x in soup.find_all([\"title\",\"h1\",\"h2\",\"h3\",\"p\",\"li\"])])\n",
    "        return re.sub(r\"\\s+\", \" \", text)\n",
    "    except Exception:\n",
    "        return \"\"\n",
    "\n",
    "def keyword_score(text: str, keywords: set) -> float:\n",
    "    if not text:\n",
    "        return 0.0\n",
    "    t = text.lower()\n",
    "    hits = sum(len(re.findall(r\"\\\\b\" + re.escape(k) + r\"\\\\b\", t)) for k in keywords)\n",
    "    return 1.0 - math.exp(-hits/5.0)\n",
    "\n",
    "\n",
    "def keyword_matches(text: str, keywords) -> dict:\n",
    "    \"\"\"\n",
    "    Ritorna un dict {keyword_norm: count_match} sul testo.\n",
    "    Usa \\b ... \\b per il confine di parola (match esatto).\n",
    "    \"\"\"\n",
    "    if not text:\n",
    "        return {k.lower(): 0 for k in keywords}\n",
    "    t = text.lower()\n",
    "    counts = {}\n",
    "    for k in (kw.lower() for kw in keywords):\n",
    "        patt = r\"\\b\" + re.escape(k) + r\"\\b\"\n",
    "        counts[k] = len(re.findall(patt, t))\n",
    "    return counts\n",
    "\n",
    "def keyword_score_from_counts(counts: dict) -> float:\n",
    "    hits = sum(counts.values())\n",
    "    return 1.0 - math.exp(-hits/5.0)\n",
    "    \n",
    "\n",
    "def semantic_score(text: str, topic_phrases, model) -> float:\n",
    "    if not text.strip():\n",
    "        return 0.0\n",
    "    vecs = model.encode([text] + topic_phrases, normalize_embeddings=True, show_progress_bar=False)\n",
    "    sims = vecs[1:] @ vecs[0]\n",
    "    return float(np.max(sims))\n",
    "\n",
    "def classify_url(url: str, keywords, model):\n",
    "    text = fetch_text(url)\n",
    "    # conteggi e score keyword\n",
    "    kmatch = keyword_matches(text, keywords)\n",
    "    kscore = keyword_score_from_counts(kmatch)\n",
    "\n",
    "    # embedding score\n",
    "    sscore = semantic_score(text, list(keywords), model)\n",
    "\n",
    "    # fusione\n",
    "    final = ALPHA_SEMANTIC * sscore + ALPHA_KEYWORD * kscore\n",
    "\n",
    "    # colonne per keyword: flag_ e count_\n",
    "    per_kw_flags = {f\"flag_{k.lower().replace(\" \", \"_\")}\": 1 if kmatch[k.lower()] > 0 else 0 for k in (kw.lower() for kw in keywords)}\n",
    "    #per_kw_counts = {f\"count_{k.lower()}\": kmatch[k.lower()] for k in (kw.lower() for kw in keywords)}\n",
    "\n",
    "    base = {\n",
    "        \"url\": url,\n",
    "        \"text\": text,\n",
    "        \"semantic_score\": round(sscore, 3),\n",
    "        \"keyword_score\": round(kscore, 3),\n",
    "        \"final_score\": round(final, 3),\n",
    "    }\n",
    "    # se vuoi **solo** i flag, commenta la riga per_kw_counts\n",
    "    base.update(per_kw_flags)\n",
    "    #base.update(per_kw_counts)\n",
    "\n",
    "    return base"
   ]
  },
  {
   "cell_type": "markdown",
   "id": "b7737fd3",
   "metadata": {},
   "source": [
    "## Esecuzione classificazione"
   ]
  },
  {
   "cell_type": "code",
   "execution_count": 39,
   "id": "d733ff9f",
   "metadata": {},
   "outputs": [
    {
     "name": "stderr",
     "output_type": "stream",
     "text": [
      "3it [00:02,  1.49it/s]"
     ]
    },
    {
     "name": "stdout",
     "output_type": "stream",
     "text": [
      "CPU times: total: 3.28 s\n",
      "Wall time: 2.02 s\n"
     ]
    },
    {
     "name": "stderr",
     "output_type": "stream",
     "text": [
      "\n"
     ]
    },
    {
     "data": {
      "text/html": [
       "<div>\n",
       "<style scoped>\n",
       "    .dataframe tbody tr th:only-of-type {\n",
       "        vertical-align: middle;\n",
       "    }\n",
       "\n",
       "    .dataframe tbody tr th {\n",
       "        vertical-align: top;\n",
       "    }\n",
       "\n",
       "    .dataframe thead th {\n",
       "        text-align: right;\n",
       "    }\n",
       "</style>\n",
       "<table border=\"1\" class=\"dataframe\">\n",
       "  <thead>\n",
       "    <tr style=\"text-align: right;\">\n",
       "      <th></th>\n",
       "      <th>id</th>\n",
       "      <th>url</th>\n",
       "      <th>text</th>\n",
       "      <th>keyword_score</th>\n",
       "      <th>semantic_score</th>\n",
       "      <th>final_score</th>\n",
       "      <th>flag_nautica</th>\n",
       "      <th>flag_yacht</th>\n",
       "      <th>flag_barche_a_vela</th>\n",
       "      <th>flag_imbarcazioni</th>\n",
       "      <th>flag_cantieri_navali</th>\n",
       "      <th>flag_navi</th>\n",
       "    </tr>\n",
       "  </thead>\n",
       "  <tbody>\n",
       "    <tr>\n",
       "      <th>0</th>\n",
       "      <td>1</td>\n",
       "      <td>https://www.cantierinavali.it</td>\n",
       "      <td>Cantieri Navali Chioggia Home Il cantiere Serv...</td>\n",
       "      <td>0.551</td>\n",
       "      <td>0.671</td>\n",
       "      <td>0.635</td>\n",
       "      <td>0.0</td>\n",
       "      <td>1.0</td>\n",
       "      <td>0.0</td>\n",
       "      <td>0.0</td>\n",
       "      <td>1.0</td>\n",
       "      <td>1.0</td>\n",
       "    </tr>\n",
       "    <tr>\n",
       "      <th>1</th>\n",
       "      <td>2</td>\n",
       "      <td>https://www.nautica.it</td>\n",
       "      <td>Nautica On Line - Barche nuove, usate, gommoni...</td>\n",
       "      <td>0.998</td>\n",
       "      <td>0.610</td>\n",
       "      <td>0.726</td>\n",
       "      <td>1.0</td>\n",
       "      <td>1.0</td>\n",
       "      <td>1.0</td>\n",
       "      <td>1.0</td>\n",
       "      <td>0.0</td>\n",
       "      <td>1.0</td>\n",
       "    </tr>\n",
       "    <tr>\n",
       "      <th>2</th>\n",
       "      <td>3</td>\n",
       "      <td>https://www.studilegali.com/</td>\n",
       "      <td>Avvocati - StudiLegali.com Home StudiLegali.co...</td>\n",
       "      <td>0.000</td>\n",
       "      <td>0.229</td>\n",
       "      <td>0.160</td>\n",
       "      <td>0.0</td>\n",
       "      <td>0.0</td>\n",
       "      <td>0.0</td>\n",
       "      <td>0.0</td>\n",
       "      <td>0.0</td>\n",
       "      <td>0.0</td>\n",
       "    </tr>\n",
       "  </tbody>\n",
       "</table>\n",
       "</div>"
      ],
      "text/plain": [
       "   id                            url  \\\n",
       "0   1  https://www.cantierinavali.it   \n",
       "1   2         https://www.nautica.it   \n",
       "2   3   https://www.studilegali.com/   \n",
       "\n",
       "                                                text  keyword_score  \\\n",
       "0  Cantieri Navali Chioggia Home Il cantiere Serv...          0.551   \n",
       "1  Nautica On Line - Barche nuove, usate, gommoni...          0.998   \n",
       "2  Avvocati - StudiLegali.com Home StudiLegali.co...          0.000   \n",
       "\n",
       "   semantic_score  final_score  flag_nautica  flag_yacht  flag_barche_a_vela  \\\n",
       "0           0.671        0.635           0.0         1.0                 0.0   \n",
       "1           0.610        0.726           1.0         1.0                 1.0   \n",
       "2           0.229        0.160           0.0         0.0                 0.0   \n",
       "\n",
       "   flag_imbarcazioni  flag_cantieri_navali  flag_navi  \n",
       "0                0.0                   1.0        1.0  \n",
       "1                1.0                   0.0        1.0  \n",
       "2                0.0                   0.0        0.0  "
      ]
     },
     "execution_count": 39,
     "metadata": {},
     "output_type": "execute_result"
    }
   ],
   "source": [
    "%%time\n",
    "\n",
    "for i, row in tqdm(df_url.iterrows()):\n",
    "    url = row[\"url\"]\n",
    "    res = classify_url(url, keywords, model)\n",
    "\n",
    "    df_url.at[i, \"text\"] = res[\"text\"]\n",
    "    df_url.at[i, \"keyword_score\"] = res[\"keyword_score\"]\n",
    "    df_url.at[i, \"semantic_score\"] = res[\"semantic_score\"]\n",
    "    df_url.at[i, \"final_score\"] = res[\"final_score\"]\n",
    "\n",
    "    # se classify_url ritorna anche flag_* o count_*, aggiungili automaticamente\n",
    "    for k, v in res.items():\n",
    "        if k not in df_url.columns:\n",
    "            df_url[k] = np.nan\n",
    "        df_url.at[i, k] = v\n",
    "\n",
    "#df = pd.DataFrame(results)\n",
    "df_url"
   ]
  },
  {
   "cell_type": "markdown",
   "id": "93ce60f3",
   "metadata": {},
   "source": [
    "## Salvataggio in CSV"
   ]
  },
  {
   "cell_type": "code",
   "execution_count": null,
   "id": "bdc982a1",
   "metadata": {},
   "outputs": [],
   "source": [
    "df.to_csv(\"classification_results.csv\", index=False)\n",
    "print(\"Risultati salvati in classification_results.csv\")"
   ]
  }
 ],
 "metadata": {
  "kernelspec": {
   "display_name": "Python 3 (ipykernel)",
   "language": "python",
   "name": "python3"
  },
  "language_info": {
   "codemirror_mode": {
    "name": "ipython",
    "version": 3
   },
   "file_extension": ".py",
   "mimetype": "text/x-python",
   "name": "python",
   "nbconvert_exporter": "python",
   "pygments_lexer": "ipython3",
   "version": "3.13.2"
  }
 },
 "nbformat": 4,
 "nbformat_minor": 5
}
